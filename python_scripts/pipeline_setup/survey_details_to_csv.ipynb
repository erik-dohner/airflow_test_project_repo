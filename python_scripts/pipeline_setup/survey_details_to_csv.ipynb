{
 "cells": [
  {
   "cell_type": "code",
   "execution_count": 5,
   "metadata": {},
   "outputs": [
    {
     "data": {
      "application/vnd.microsoft.datawrangler.viewer.v0+json": {
       "columns": [
        {
         "name": "index",
         "rawType": "int64",
         "type": "integer"
        },
        {
         "name": "survey_title",
         "rawType": "object",
         "type": "string"
        },
        {
         "name": "survey_id",
         "rawType": "object",
         "type": "string"
        }
       ],
       "conversionMethod": "pd.DataFrame",
       "ref": "045d0bb5-be89-46d1-8dca-8d5eeb3b4edd",
       "rows": [
        [
         "0",
         "2024/25 Season Post-Performance Survey",
         "520007028"
        ]
       ],
       "shape": {
        "columns": 2,
        "rows": 1
       }
      },
      "text/html": [
       "<div>\n",
       "<style scoped>\n",
       "    .dataframe tbody tr th:only-of-type {\n",
       "        vertical-align: middle;\n",
       "    }\n",
       "\n",
       "    .dataframe tbody tr th {\n",
       "        vertical-align: top;\n",
       "    }\n",
       "\n",
       "    .dataframe thead th {\n",
       "        text-align: right;\n",
       "    }\n",
       "</style>\n",
       "<table border=\"1\" class=\"dataframe\">\n",
       "  <thead>\n",
       "    <tr style=\"text-align: right;\">\n",
       "      <th></th>\n",
       "      <th>survey_title</th>\n",
       "      <th>survey_id</th>\n",
       "    </tr>\n",
       "  </thead>\n",
       "  <tbody>\n",
       "    <tr>\n",
       "      <th>0</th>\n",
       "      <td>2024/25 Season Post-Performance Survey</td>\n",
       "      <td>520007028</td>\n",
       "    </tr>\n",
       "  </tbody>\n",
       "</table>\n",
       "</div>"
      ],
      "text/plain": [
       "                             survey_title  survey_id\n",
       "0  2024/25 Season Post-Performance Survey  520007028"
      ]
     },
     "execution_count": 5,
     "metadata": {},
     "output_type": "execute_result"
    }
   ],
   "source": [
    "import json\n",
    "import pandas as pd\n",
    "\n",
    "\n",
    "filepath = r\"C:\\Users\\edohner\\OneDrive - Lyric Opera of Chicago\\Desktop\\Python Learning\\airflow_test_project\\api_library_package\\api_library\\sm_api\\survey_details.json\"\n",
    "\n",
    "\n",
    "with open(filepath) as file:\n",
    "    data = json.load(file)\n",
    "    \n",
    "\n",
    "df = pd.DataFrame({\n",
    "    'survey_title': [data['title']],\n",
    "    'survey_id': [data['id']]\n",
    "})\n",
    "\n",
    "df.to_csv('survey_details.csv')\n",
    "\n",
    "\n",
    "df"
   ]
  }
 ],
 "metadata": {
  "kernelspec": {
   "display_name": "airflow_test",
   "language": "python",
   "name": "python3"
  },
  "language_info": {
   "codemirror_mode": {
    "name": "ipython",
    "version": 3
   },
   "file_extension": ".py",
   "mimetype": "text/x-python",
   "name": "python",
   "nbconvert_exporter": "python",
   "pygments_lexer": "ipython3",
   "version": "3.8.20"
  }
 },
 "nbformat": 4,
 "nbformat_minor": 2
}
