{
 "cells": [
  {
   "cell_type": "code",
   "execution_count": 2,
   "metadata": {},
   "outputs": [],
   "source": [
    "import pandas as pd\n",
    "\n",
    "# Define genre mappings and join\n",
    "genre_mapping = pd.DataFrame({\n",
    "    'production_name': ['Blue', 'Fidelio', 'La Boheme', 'Rigoletto', 'The Listeners', 'The Marriage of Figaro', \n",
    "                        'A Wondrous Sound', 'Patti LuPone: A Life in Notes', 'Singin\\' in the Rain', \n",
    "                        'Sondra Radvanovsky in Concert: The Puccini Heroines'],\n",
    "    'genre': ['Opera', 'Opera', 'Opera', 'Opera', 'Opera', 'Opera', 'Concert', 'Concert', 'Concert', 'Concert']\n",
    "})\n",
    "\n",
    "genre_mapping.to_csv('genres.csv')\n",
    "\n",
    "\n"
   ]
  }
 ],
 "metadata": {
  "kernelspec": {
   "display_name": "airflow_test",
   "language": "python",
   "name": "python3"
  },
  "language_info": {
   "codemirror_mode": {
    "name": "ipython",
    "version": 3
   },
   "file_extension": ".py",
   "mimetype": "text/x-python",
   "name": "python",
   "nbconvert_exporter": "python",
   "pygments_lexer": "ipython3",
   "version": "3.8.20"
  }
 },
 "nbformat": 4,
 "nbformat_minor": 2
}
