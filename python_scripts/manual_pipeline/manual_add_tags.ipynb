{
 "cells": [
  {
   "cell_type": "code",
   "execution_count": 2,
   "metadata": {},
   "outputs": [
    {
     "name": "stderr",
     "output_type": "stream",
     "text": [
      "INFO:root:GCP credentials found in environment variable: C:\\Users\\edohner\\OneDrive - Lyric Opera of Chicago\\Desktop\\Python Learning\\airflow_test_project\\gcp_service_account.json\n",
      "INFO:root:GCP credentials JSON loaded successfully.\n",
      "INFO:root:Using project ID from JSON credentials: dbt-test-449821\n",
      "INFO:root:Successfully retrieved data from blob: sm_poor_fair_emails, project: dbt-test-449821\n",
      "INFO:root:activecampaign_api_config.json found at C:\\Users\\edohner\\OneDrive - Lyric Opera of Chicago\\Desktop\\Python Learning\\airflow_test_project\\api_library_package\\api_library\\ac_api\\activecampaign_api_config.json\n",
      "INFO:root:Successfully loaded sm_api_config.json\n",
      "INFO:root:ac_contact_id fetched successfully: 314935\n",
      "INFO:root:Adding \"sm_poor_fair\" tag to ac_contact_id: 314935\n",
      "INFO:root:Successfully added 'sm_poor_fair' tag to contact ID: 314935\n",
      "INFO:root:ac_contact_id fetched successfully: 40614\n",
      "INFO:root:Adding \"sm_poor_fair\" tag to ac_contact_id: 40614\n",
      "INFO:root:Successfully added 'sm_poor_fair' tag to contact ID: 40614\n",
      "INFO:root:ac_contact_id fetched successfully: 396583\n",
      "INFO:root:Adding \"sm_poor_fair\" tag to ac_contact_id: 396583\n",
      "INFO:root:Successfully added 'sm_poor_fair' tag to contact ID: 396583\n",
      "INFO:root:ac_contact_id fetched successfully: 551447\n",
      "INFO:root:Adding \"sm_poor_fair\" tag to ac_contact_id: 551447\n",
      "INFO:root:Successfully added 'sm_poor_fair' tag to contact ID: 551447\n"
     ]
    }
   ],
   "source": [
    "\n",
    "from api_library import StorageConnect\n",
    "from api_library import ACConnect\n",
    "import logging\n",
    "import json\n",
    "\n",
    "\n",
    "\n",
    "def add_tags(tag, blob_name):\n",
    "    \"\"\"\n",
    "    Initializes BigQuery and ActiveCampaign connections.\n",
    "    \n",
    "    - Fetches qualifying emails from a GCP storage blob.\n",
    "    - Retrieves associated ActiveCampaign contact IDs.\n",
    "    - Adds the specified tag to each contact in ActiveCampaign.\n",
    "    \n",
    "    Args:\n",
    "        tag (int): The ActiveCampaign tag ID.\n",
    "        blob_name (str): The name of the blob containing email data.\n",
    "    \"\"\"\n",
    "    \n",
    "    try:\n",
    "        # Init StorageConnect\n",
    "        storage_conn = StorageConnect()\n",
    "        \n",
    "        # Specify the blob name\n",
    "        blob = storage_conn.raw_data_bucket.blob(blob_name)\n",
    "        \n",
    "        # retrieve the blob\n",
    "        downloaded_data = blob.download_as_text()\n",
    "        \n",
    "        if not downloaded_data:\n",
    "            logging.error(f'Blob {blob_name} is empty in project {storage_conn.project_id}.')\n",
    "            raise RuntimeError(f'Downloaded file is empty: {blob_name}')\n",
    "\n",
    "        logging.info(f'Successfully retrieved data from blob: {blob_name}, project: {storage_conn.project_id}')\n",
    "    \n",
    "        try: \n",
    "            # Convert JSON string to list\n",
    "            email_ls = json.loads(downloaded_data)\n",
    "        except json.JSONDecodeError as e:\n",
    "            logging.error(f'Failed to parse JSON from blob {blob_name}: {e}')\n",
    "            raise ValueError(f'Invalid JSON format in blob {blob_name}') from e\n",
    "\n",
    "        # Init ACConnect, passing through the tag id\n",
    "        ac_conn = ACConnect(tag)\n",
    "        \n",
    "        # Fetch the ac_contact_id for each email --> add tag for the email\n",
    "        for email in email_ls:\n",
    "            id = ac_conn.fetch_contact_id(email)\n",
    "            if id:\n",
    "                ac_conn.add_tag(id)\n",
    "            else:\n",
    "                logging.warning(f'Skipping email {email} - No ActiveCampaign contact ID found')\n",
    "                \n",
    "    except Exception as e:\n",
    "        logging.error(f'Unexpected error in add_tags function: {e}', exc_info=True)\n",
    "        \n",
    "        \n",
    "add_tags(6636, 'sm_poor_fair_emails')\n"
   ]
  }
 ],
 "metadata": {
  "kernelspec": {
   "display_name": "airflow_test",
   "language": "python",
   "name": "python3"
  },
  "language_info": {
   "codemirror_mode": {
    "name": "ipython",
    "version": 3
   },
   "file_extension": ".py",
   "mimetype": "text/x-python",
   "name": "python",
   "nbconvert_exporter": "python",
   "pygments_lexer": "ipython3",
   "version": "3.8.20"
  }
 },
 "nbformat": 4,
 "nbformat_minor": 2
}
