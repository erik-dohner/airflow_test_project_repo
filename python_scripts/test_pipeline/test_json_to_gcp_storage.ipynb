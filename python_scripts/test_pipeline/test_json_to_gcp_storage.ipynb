{
 "cells": [
  {
   "cell_type": "code",
   "execution_count": null,
   "metadata": {},
   "outputs": [
    {
     "name": "stderr",
     "output_type": "stream",
     "text": [
      "INFO:root:GCP credentials found in environment variable: C:\\Users\\edohner\\OneDrive - Lyric Opera of Chicago\\Desktop\\Python Learning\\airflow_test_project\\gcp_service_account.json\n",
      "INFO:root:GCP credentials JSON loaded successfully.\n"
     ]
    }
   ],
   "source": [
    "import json\n",
    "import os\n",
    "import logging\n",
    "from api_library import StorageConnect\n",
    "\n",
    "logging.basicConfig(level=logging.INFO)\n",
    "\n",
    "current_directory = os.getcwd()\n",
    "\n",
    "filepath = os.path.join(current_directory, 'test_raw_answers.json')\n",
    "\n",
    "with open(filepath) as file:\n",
    "    data_dict = json.load(file)\n",
    "        \n",
    "data_json_string = json.dumps(data_dict['data'])\n",
    "\n",
    "# Iinitalize GCP Storage connection\n",
    "storage_conn = StorageConnect()\n",
    "\n",
    "# create the blob, by passing blob name to .blob() method\n",
    "blob = storage_conn.raw_data_bucket.blob('test_raw_answer.json')\n",
    "\n",
    "# upload file to newly created blob\n",
    "blob.upload_from_string(data_json_string, content_type=\"application/json\")"
   ]
  },
  {
   "cell_type": "code",
   "execution_count": null,
   "metadata": {},
   "outputs": [],
   "source": [
    "# retrieve the blob\n",
    "bucket_name = 'airflow_raw_source_data'\n",
    "blob_name = 'test_raw_answer.json'\n",
    "\n",
    "blob = bucket.blob(blob_name)\n",
    "\n",
    "# download content as a string \n",
    "downloaded_data = blob.download_as_text()\n",
    "\n",
    "# convert back to dict\n",
    "dict = json.load(downloaded_data)"
   ]
  }
 ],
 "metadata": {
  "kernelspec": {
   "display_name": "airflow_test",
   "language": "python",
   "name": "python3"
  },
  "language_info": {
   "codemirror_mode": {
    "name": "ipython",
    "version": 3
   },
   "file_extension": ".py",
   "mimetype": "text/x-python",
   "name": "python",
   "nbconvert_exporter": "python",
   "pygments_lexer": "ipython3",
   "version": "3.8.20"
  }
 },
 "nbformat": 4,
 "nbformat_minor": 2
}
